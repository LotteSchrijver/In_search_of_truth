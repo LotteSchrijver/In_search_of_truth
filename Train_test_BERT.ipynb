{
 "cells": [
  {
   "cell_type": "markdown",
   "metadata": {},
   "source": [
    "Download packages"
   ]
  },
  {
   "cell_type": "code",
   "execution_count": null,
   "metadata": {},
   "outputs": [],
   "source": [
    "#Need to install\n",
    "#!pip install pandas numpy sklearn.metrics sklearn.model_selection emoji re datasets transformers warnings\n"
   ]
  },
  {
   "cell_type": "code",
   "execution_count": null,
   "metadata": {},
   "outputs": [],
   "source": [
    "# For data manipulation and analysis\n",
    "import pandas as pd\n",
    "import numpy as np\n",
    "\n",
    "# For machine learning tools and evaluation\n",
    "from sklearn.metrics import accuracy_score, precision_recall_fscore_support, balanced_accuracy_score\n",
    "\n",
    "\n",
    "from sklearn.model_selection import train_test_split\n",
    "\n",
    "import emoji\n",
    "import re\n",
    "import datasets\n",
    "from transformers import TrainingArguments, Trainer\n",
    "from transformers import AutoTokenizer, AutoModelForSequenceClassification\n",
    "from transformers import pipeline\n",
    "import warnings"
   ]
  },
  {
   "cell_type": "markdown",
   "metadata": {},
   "source": [
    "Get BERT model and tokenizer"
   ]
  },
  {
   "cell_type": "code",
   "execution_count": null,
   "metadata": {},
   "outputs": [],
   "source": [
    "tokenizer = AutoTokenizer.from_pretrained(\"DTAI-KULeuven/robbert-2022-dutch-base\")\n",
    "model = AutoModelForSequenceClassification.from_pretrained(\"DTAI-KULeuven/robbert-2022-dutch-base\")"
   ]
  },
  {
   "cell_type": "markdown",
   "metadata": {},
   "source": [
    "Prepare data"
   ]
  },
  {
   "cell_type": "code",
   "execution_count": 31,
   "metadata": {},
   "outputs": [],
   "source": [
    "# Read data \n",
    "data =  pd.read_csv(\"insert_own_path\")\n",
    "# Classification only works when outcome variable is called labels\n",
    "data[['labels']] = data[['label_mis']]\n",
    "# Convert emoji to descriptions (in English) using emoji package\n",
    "def no_emoji(text):\n",
    "    text = emoji.demojize(text) \n",
    "    return text \n",
    "data['text'] = data['text'].apply(no_emoji)\n",
    "#Remove urls, &gt, &lt and &amp, and [numbers] from text\n",
    "#Removed [numbers] because there were meaningless numbers between brackets in the Tweets\n",
    "def clean_text(text):\n",
    "    text = re.sub(r'https?://\\S+|www\\.\\S+|\\r|\\n|&gt.?| &lt.?|&amp.?|\\[\\d*\\]', '', text)\n",
    "    return text \n",
    "data['text'] = data['text'].apply(clean_text) \n",
    "\n",
    "#Display cleaned text\n",
    "pd.set_option('display.max_rows', None)\n",
    "pd.set_option('max_colwidth', None)\n",
    "\n",
    "#One dataset with only text and labels to train BERT model\n",
    "#One dataset with also year so I can later split dataset and evaluate metrics per year\n",
    "data_inf = data[['text', 'labels', 'id', 'year']]\n",
    "data = data[['text', 'labels']]\n",
    "\n"
   ]
  },
  {
   "cell_type": "markdown",
   "metadata": {},
   "source": [
    "Set values of variables important for training"
   ]
  },
  {
   "cell_type": "code",
   "execution_count": 32,
   "metadata": {},
   "outputs": [],
   "source": [
    "max_length = 512\n",
    "# set random seed for reproducibility\n",
    "SEED_GLOBAL = 42\n",
    "np.random.seed(SEED_GLOBAL)\n",
    "#Set training directory \n",
    "training_directory = \"insert_own_path\""
   ]
  },
  {
   "cell_type": "markdown",
   "metadata": {},
   "source": [
    "Split data into training and test set"
   ]
  },
  {
   "cell_type": "code",
   "execution_count": 33,
   "metadata": {},
   "outputs": [],
   "source": [
    "# Train and test set for training model\n",
    "df_train, df_test = train_test_split(data, random_state=42, test_size=0.25)\n",
    "\n",
    "#Create identical test with text and labels plus year so performance metrics can be split by year\n",
    "df_train_inf, df_test_inf = train_test_split(data_inf, random_state=42, test_size=0.25)"
   ]
  },
  {
   "cell_type": "markdown",
   "metadata": {},
   "source": [
    "Tokenize data (from https://github.com/MoritzLaurer/summer-school-transformers-2023/blob/main/3_tune_bert.ipynb)"
   ]
  },
  {
   "cell_type": "code",
   "execution_count": null,
   "metadata": {},
   "outputs": [],
   "source": [
    "# convert pandas dataframes to Hugging Face dataset object to facilitate pre-processing\n",
    "dataset = datasets.DatasetDict({\n",
    "    \"train\": datasets.Dataset.from_pandas(df_train),\n",
    "    \"test\": datasets.Dataset.from_pandas(df_test)\n",
    "})\n",
    "\n",
    "# tokenize\n",
    "def tokenize(examples):\n",
    "  return tokenizer(examples[\"text\"], truncation=True, padding = 'max_length', max_length=512)  \n",
    "dataset = dataset.map(tokenize, batched=True)"
   ]
  },
  {
   "cell_type": "markdown",
   "metadata": {},
   "source": [
    "Set training arguments (from https://github.com/MoritzLaurer/summer-school-transformers-2023/blob/main/3_tune_bert.ipynb)"
   ]
  },
  {
   "cell_type": "code",
   "execution_count": 35,
   "metadata": {},
   "outputs": [],
   "source": [
    "train_args = TrainingArguments(\n",
    "    num_train_epochs=3,  \n",
    "    learning_rate=2e-5,\n",
    "    per_device_train_batch_size=16,  \n",
    "    per_device_eval_batch_size=64,   \n",
    "    warmup_ratio=0.06, \n",
    "    weight_decay=0.1,\n",
    "    seed=SEED_GLOBAL,\n",
    "    load_best_model_at_end=True,\n",
    "    metric_for_best_model=\"f1_macro\",\n",
    "    evaluation_strategy=\"epoch\", \n",
    "    save_strategy = \"epoch\",\n",
    "    report_to=\"all\",\n",
    "    output_dir=f'{training_directory}',\n",
    "    logging_dir=f'{training_directory}',\n",
    ")\n"
   ]
  },
  {
   "cell_type": "markdown",
   "metadata": {},
   "source": [
    "Set evaluation metrics (from https://github.com/MoritzLaurer/summer-school-transformers-2023/blob/main/3_tune_bert.ipynb)"
   ]
  },
  {
   "cell_type": "code",
   "execution_count": 36,
   "metadata": {},
   "outputs": [],
   "source": [
    "# Function to calculate metrics\n",
    "# documentation on all metrics: https://scikit-learn.org/stable/modules/classes.html#module-sklearn.metrics\n",
    "\n",
    "def compute_metrics_standard(eval_pred):\n",
    "    with warnings.catch_warnings():\n",
    "        warnings.filterwarnings(\"ignore\")\n",
    "\n",
    "        labels = eval_pred.label_ids\n",
    "        pred_logits = eval_pred.predictions\n",
    "        preds_max = np.argmax(pred_logits, axis=1) \n",
    "\n",
    "        # metrics\n",
    "        precision_mis, recall_mis, f1_mis, _ = precision_recall_fscore_support(labels, preds_max, average= 'binary') \n",
    "        precision_macro, recall_macro, f1_macro, _ = precision_recall_fscore_support(labels, preds_max, average='macro')  \n",
    "        precision_micro, recall_micro, f1_micro, _ = precision_recall_fscore_support(labels, preds_max, average='micro')  \n",
    "        acc_balanced = balanced_accuracy_score(labels, preds_max)\n",
    "        acc_not_balanced = accuracy_score(labels, preds_max)\n",
    "\n",
    "        metrics = {\n",
    "            'accuracy': acc_not_balanced,\n",
    "            'f1_macro': f1_macro,\n",
    "            'accuracy_balanced': acc_balanced,\n",
    "            'f1_micro': f1_micro,\n",
    "            'precision_macro': precision_macro,\n",
    "            'recall_macro': recall_macro,\n",
    "            'precision_micro': precision_micro,\n",
    "            'recall_micro': recall_micro,\n",
    "            'precision_misinformation': precision_mis,\n",
    "            'recall_misinformation': recall_mis,\n",
    "            'f1_misinformation': f1_mis,\n",
    "        }\n",
    "\n",
    "        return metrics"
   ]
  },
  {
   "cell_type": "markdown",
   "metadata": {},
   "source": [
    "Set BERT model"
   ]
  },
  {
   "cell_type": "code",
   "execution_count": null,
   "metadata": {},
   "outputs": [],
   "source": [
    "trainer = Trainer(\n",
    "    model=model,                         \n",
    "    args=train_args,             \n",
    "    train_dataset=dataset[\"train\"],        \n",
    "    eval_dataset=dataset[\"test\"],           \n",
    "    compute_metrics=compute_metrics_standard     \n",
    ")"
   ]
  },
  {
   "cell_type": "markdown",
   "metadata": {},
   "source": [
    "Train BERT model "
   ]
  },
  {
   "cell_type": "code",
   "execution_count": null,
   "metadata": {},
   "outputs": [],
   "source": [
    "trainer.train()"
   ]
  },
  {
   "cell_type": "markdown",
   "metadata": {},
   "source": [
    "Save model"
   ]
  },
  {
   "cell_type": "code",
   "execution_count": 39,
   "metadata": {},
   "outputs": [],
   "source": [
    "trainer.save_model(output_dir = \"insert_own_path\")"
   ]
  },
  {
   "cell_type": "markdown",
   "metadata": {},
   "source": [
    "Load model"
   ]
  },
  {
   "cell_type": "code",
   "execution_count": 40,
   "metadata": {},
   "outputs": [],
   "source": [
    "model_path = \"insert_own_path\"\n",
    "model = AutoModelForSequenceClassification.from_pretrained(model_path)"
   ]
  },
  {
   "cell_type": "markdown",
   "metadata": {},
   "source": [
    "Seeing what model predicts as misinformation (from https://github.com/MoritzLaurer/summer-school-transformers-2023/blob/main/3_tune_bert.ipynb)"
   ]
  },
  {
   "cell_type": "code",
   "execution_count": null,
   "metadata": {},
   "outputs": [],
   "source": [
    "# documentation: https://huggingface.co/docs/transformers/main_classes/pipelines#transformers.ZeroShotClassificationPipeline\n",
    "pipe_classifier = pipeline(\n",
    "    \"text-classification\",\n",
    "    model=model,  \n",
    "    tokenizer=tokenizer,\n",
    "    framework=\"pt\"\n",
    ")"
   ]
  },
  {
   "cell_type": "markdown",
   "metadata": {},
   "source": [
    "Inference: inspect what BERT model classifies as misinformation"
   ]
  },
  {
   "cell_type": "code",
   "execution_count": null,
   "metadata": {},
   "outputs": [],
   "source": [
    "#Use df_test with date so data can be splitted on year\n",
    "df_inference = df_test_inf[[\"text\", \"labels\", \"id\", \"year\"]].copy(deep=True)\n",
    "text_lst = df_inference[\"text\"].tolist()\n",
    "\n",
    "#inference\n",
    "pipe_output = pipe_classifier(\n",
    "    text_lst, \n",
    "    batch_size=64 \n",
    ")\n",
    "print(pipe_output)\n",
    "\n",
    "df_output = pd.DataFrame(pipe_output)\n",
    "\n",
    "# add inference data to original dataframe\n",
    "df_inference[\"label_text_pred\"] = df_output[\"label\"].tolist()\n",
    "df_inference[\"label_text_pred_probability\"] = df_output[\"score\"].round(2).tolist()\n",
    "#Print df_inference\n",
    "df_inference "
   ]
  },
  {
   "cell_type": "markdown",
   "metadata": {},
   "source": [
    "Calculate metrics per year"
   ]
  },
  {
   "cell_type": "markdown",
   "metadata": {},
   "source": [
    "Split dataset on date"
   ]
  },
  {
   "cell_type": "code",
   "execution_count": 43,
   "metadata": {},
   "outputs": [],
   "source": [
    "# Convert 'label_text_pred' to binary values\n",
    "df_inference['label_pred'] = df_inference['label_text_pred'].apply(lambda x: 1 if x == 'LABEL_1' else 0)\n",
    "\n",
    "#Split data\n",
    "joint_data_2020 = df_inference[df_inference['year'] == 2020]\n",
    "joint_data_2021 = df_inference[df_inference['year'] != 2020]"
   ]
  },
  {
   "cell_type": "markdown",
   "metadata": {},
   "source": [
    "Calculate recall and precision for overall dataset and datasets split on year"
   ]
  },
  {
   "cell_type": "code",
   "execution_count": null,
   "metadata": {},
   "outputs": [],
   "source": [
    "# Calculate precision and recall overall (to test if this gets me the same results as above)\n",
    "precision = precision_recall_fscore_support(y_true=df_inference['labels'], y_pred=df_inference['label_pred'], average='macro')\n",
    "recall = recall_score(df_inference['labels'], df_inference['label_pred'], average= 'binary')\n",
    "print(f'Precision_recall_fscore_macro: {precision}')\n",
    "print(f'Recall_misinfo: {recall}')"
   ]
  },
  {
   "cell_type": "code",
   "execution_count": null,
   "metadata": {},
   "outputs": [],
   "source": [
    "# Calculate precision and recall (2020)\n",
    "precision_recall_f = precision_recall_fscore_support(y_true=joint_data_2020['labels'], y_pred=joint_data_2020['label_pred'], average='binary')\n",
    "precision_recall_f_macro = precision_recall_fscore_support(y_true=joint_data_2020['labels'], y_pred=joint_data_2020['label_pred'], average='macro')\n",
    "accuracy = accuracy_score(y_true=joint_data_2020['labels'], y_pred=joint_data_2020['label_pred'])\n",
    "print(f'Precision_recall_fscore_misinfo: {precision_recall_f}')\n",
    "print(f'Precision_recall_fscore_macro: {precision_recall_f_macro}')\n",
    "print(f'Accuracy: {accuracy}')"
   ]
  },
  {
   "cell_type": "code",
   "execution_count": null,
   "metadata": {},
   "outputs": [],
   "source": [
    "# Calculate precision and recall (after 2020)\n",
    "precision_recall_f = precision_recall_fscore_support(y_true=joint_data_2021['labels'], y_pred=joint_data_2021['label_pred'], average='binary')\n",
    "precision_recall_f_macro = precision_recall_fscore_support(y_true=joint_data_2021['labels'], y_pred=joint_data_2021['label_pred'], average='macro')\n",
    "accuracy = accuracy_score(y_true=joint_data_2021['labels'], y_pred=joint_data_2021['label_pred'])\n",
    "print(f'Precision_recall_fscore_misinfo: {precision_recall_f}')\n",
    "print(f'Precision_recall_fscore_macro: {precision_recall_f_macro}')\n",
    "print(f'Accuracy: {accuracy}')"
   ]
  },
  {
   "cell_type": "markdown",
   "metadata": {},
   "source": [
    "Calculate metrics overall and per year for accurate information Tweets"
   ]
  },
  {
   "cell_type": "code",
   "execution_count": null,
   "metadata": {},
   "outputs": [],
   "source": [
    "precision = precision_recall_fscore_support(y_true=df_inference['labels'], y_pred=df_inference['label_pred'], average='binary', pos_label =0)\n",
    "print(f'Precision, recall, fscore: {precision}')"
   ]
  },
  {
   "cell_type": "code",
   "execution_count": null,
   "metadata": {},
   "outputs": [],
   "source": [
    "# Calculate precision and recall (2020)\n",
    "precision_recall_f = precision_recall_fscore_support(y_true=joint_data_2020['labels'], y_pred=joint_data_2020['label_pred'], average='binary', pos_label =0)\n",
    "print(f'Precision_recall_fscore: {precision_recall_f}')"
   ]
  },
  {
   "cell_type": "code",
   "execution_count": null,
   "metadata": {},
   "outputs": [],
   "source": [
    "# Calculate precision and recall (after 2020)\n",
    "precision_recall_f = precision_recall_fscore_support(y_true=joint_data_2021['labels'], y_pred=joint_data_2021['label_pred'], average='binary', pos_label =0)\n",
    "print(f'Precision_recall_fscore: {precision_recall_f}')"
   ]
  }
 ],
 "metadata": {
  "kernelspec": {
   "display_name": "Python 3",
   "language": "python",
   "name": "python3"
  },
  "language_info": {
   "codemirror_mode": {
    "name": "ipython",
    "version": 3
   },
   "file_extension": ".py",
   "mimetype": "text/x-python",
   "name": "python",
   "nbconvert_exporter": "python",
   "pygments_lexer": "ipython3",
   "version": "3.11.2"
  }
 },
 "nbformat": 4,
 "nbformat_minor": 2
}
